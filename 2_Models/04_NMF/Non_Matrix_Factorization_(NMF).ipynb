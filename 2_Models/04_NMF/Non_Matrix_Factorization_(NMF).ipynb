{
  "nbformat": 4,
  "nbformat_minor": 0,
  "metadata": {
    "colab": {
      "provenance": []
    },
    "kernelspec": {
      "name": "python3",
      "display_name": "Python 3"
    },
    "language_info": {
      "name": "python"
    }
  },
  "cells": [
    {
      "cell_type": "markdown",
      "source": [
        "**<h1>Identifying Inappropriate Table of Surgical Procedures (TOSP) Pair Codes with Non-negative matrix factorization (NMF)</h1>**\n",
        "\n",
        "<p align=\"justify\">\n",
        "In this notebook, we explore Non-Negative Matrix Factorization (NMF) to analyse TOSP code descriptions and identify inappropriate code pairs. Previously, we investigated three different clustering methods, but these approaches had limitations in accurately grouping semantically similar procedures. To improve our methodology, we introduce NMF for topic modeling and Agglomerative Clustering for hierarchical grouping.\n",
        "\n",
        "---"
      ],
      "metadata": {
        "id": "b02aVeBxDt_I"
      }
    },
    {
      "cell_type": "markdown",
      "source": [
        "## **1. Import Libraries and Setup**\n",
        "\n",
        "Import the necessary libraries to set up the notebook."
      ],
      "metadata": {
        "id": "2e8VPCMfVIMF"
      }
    },
    {
      "cell_type": "code",
      "execution_count": 32,
      "metadata": {
        "id": "LIrJTXL-nbJF",
        "colab": {
          "base_uri": "https://localhost:8080/"
        },
        "outputId": "7c0f33ba-34b0-4cfc-9367-4706aa8de83d"
      },
      "outputs": [
        {
          "output_type": "stream",
          "name": "stderr",
          "text": [
            "[nltk_data] Downloading package stopwords to /root/nltk_data...\n",
            "[nltk_data]   Package stopwords is already up-to-date!\n",
            "[nltk_data] Downloading package wordnet to /root/nltk_data...\n",
            "[nltk_data]   Package wordnet is already up-to-date!\n"
          ]
        },
        {
          "output_type": "execute_result",
          "data": {
            "text/plain": [
              "True"
            ]
          },
          "metadata": {},
          "execution_count": 32
        }
      ],
      "source": [
        "# Import the required libraries\n",
        "import re\n",
        "import nltk\n",
        "import numpy as np\n",
        "import pandas as pd\n",
        "import seaborn as sns\n",
        "import matplotlib.pyplot as plt\n",
        "from nltk.corpus import stopwords\n",
        "from nltk.stem import WordNetLemmatizer\n",
        "from sklearn.cluster import KMeans, DBSCAN, AgglomerativeClustering\n",
        "from sklearn.metrics import silhouette_score\n",
        "from sklearn.decomposition import TruncatedSVD, NMF\n",
        "from sklearn.metrics.pairwise import cosine_similarity\n",
        "from sklearn.feature_extraction.text import TfidfVectorizer\n",
        "\n",
        "# Download Natural Language Toolkit (NLTK)\n",
        "nltk.download(\"stopwords\")\n",
        "nltk.download(\"wordnet\")"
      ]
    },
    {
      "cell_type": "markdown",
      "source": [
        "## **2. Data Loading and Pre-processing**\n",
        "\n",
        "Loading the TOSP dataset (combined_dataset.csv) and applying the following pre-processing steps to enhance text quality:\n",
        "\n",
        "* Convert text to lowercase - standardises input\n",
        "* Removes numbers and punctuation reduces noise\n",
        "* Removes stopwords - eliminates common but unimportant words\n",
        "* Apply lemmatisation - reduces words to their base form for better clustering\n",
        "* Trim extra spaces - removing unintended multiple spaces\n",
        "\n",
        "<p align=\"justify\">After preprocessing, we use TF-IDF (Term Frequency-Inverse Document Frequency) to convert the cleaned descriptions into numerical representations. This technique assigns higher weights to important words determined by term frequency (TF) — <i>How many times does this word appear in this document among the number of times all words appear in this document? and <i>Inverse Document Frequency (IDF) — <i>How common (or uncommon) is this word among all the documents I have?</i>\n",
        "\n",
        "---"
      ],
      "metadata": {
        "id": "oLF2HnExVcuj"
      }
    },
    {
      "cell_type": "code",
      "source": [
        "# Loading the data (combined_dataset.csv)\n",
        "df_tosp = pd.read_csv(\"combined_dataset.csv\")\n",
        "\n",
        "# Data pre-processing\n",
        "stop_words = set(stopwords.words(\"english\"))\n",
        "lemmatizer = WordNetLemmatizer()\n",
        "\n",
        "def preprocess_text(text):\n",
        "    text = text.lower()  # Convert to lowercase\n",
        "    text = re.sub(r\"\\d+\", \"\", text)  # Remove numbers\n",
        "    text = re.sub(r\"[^\\w\\s]\", \"\", text)  # Remove punctuation\n",
        "    words = text.split()\n",
        "\n",
        "    # Remove stopwords first\n",
        "    words = [word for word in words if word not in stop_words]\n",
        "\n",
        "    # Lemmatization after stopword removal\n",
        "    words = [lemmatizer.lemmatize(word) for word in words]\n",
        "\n",
        "    # Trim extra spaces\n",
        "    return \" \".join(words).strip()\n",
        "\n",
        "df_tosp[\"Cleaned_Description\"] = df_tosp[\"Description\"].apply(preprocess_text)\n",
        "\n",
        "# Display first 3 samples of the processed descriptions\n",
        "print(\"\\nSample of cleaned descriptions:\")\n",
        "for i, text in enumerate(df_tosp[\"Cleaned_Description\"].head(3)):\n",
        "    print(f\"Original: {df_tosp['Description'].iloc[i][:100]}...\")\n",
        "    print(f\"Cleaned: {text[:100]}...\")\n",
        "    print(\"-\" * 50)"
      ],
      "metadata": {
        "id": "Wft0Wl3Mn9YQ",
        "colab": {
          "base_uri": "https://localhost:8080/"
        },
        "outputId": "511948a9-f4db-4fc2-85ad-8a44ce89a3be"
      },
      "execution_count": 33,
      "outputs": [
        {
          "output_type": "stream",
          "name": "stdout",
          "text": [
            "\n",
            "Sample of cleaned descriptions:\n",
            "Original: BOTULINUM TOXIN THERAPY FOR MOVEMENT DISORDERS...\n",
            "Cleaned: botulinum toxin therapy movement disorder...\n",
            "--------------------------------------------------\n",
            "Original: BREAST, DUCTAL LESIONS, MICRODOCHECTOMY (BILATERAL)...\n",
            "Cleaned: breast ductal lesion microdochectomy bilateral...\n",
            "--------------------------------------------------\n",
            "Original: BREAST, DUCTAL LESIONS, MICRODOCHECTOMY (UNILATERAL)...\n",
            "Cleaned: breast ductal lesion microdochectomy unilateral...\n",
            "--------------------------------------------------\n"
          ]
        }
      ]
    },
    {
      "cell_type": "code",
      "source": [
        "# Extract descriptions and vectorize them using TF‑IDF\n",
        "descriptions = df_tosp[\"Cleaned_Description\"].tolist()\n",
        "vectorizer = TfidfVectorizer(stop_words=\"english\")\n",
        "X = vectorizer.fit_transform(descriptions)"
      ],
      "metadata": {
        "id": "nRy-Y93SftVX"
      },
      "execution_count": 34,
      "outputs": []
    },
    {
      "cell_type": "markdown",
      "source": [
        "## **3. Finding the best \"n_components\" for NMF with Explained Variance (SVD)**\n",
        "\n",
        "<p align=\"justify\"> To determine the optimal number of components (`n_components`) for Non-Negative Matrix Factorization (NMF), we use Explained Variance via Singular Value Decomposition (SVD). This method helps identify the number of components that retain the majority of the dataset's information while reducing dimensionality.\n",
        "\n",
        "<p align=\"justify\">\n",
        "By applying Truncated SVD, we compute the cumulative explained variance across different numbers of components. The ideal n_components is chosen where the cumulative variance reaches around 90% and 95%, to ensure that we capture the most important features while avoiding unnecessary complexity.\n",
        "\n",
        "---"
      ],
      "metadata": {
        "id": "qQgzdIBhF8hC"
      }
    },
    {
      "cell_type": "code",
      "source": [
        "# Apply Truncated SVD\n",
        "svd = TruncatedSVD(n_components=2364, random_state=42)\n",
        "svd.fit(X)\n",
        "explained_variance = np.cumsum(svd.explained_variance_ratio_)\n",
        "\n",
        "# Find the first index where cumulative variance reaches 90% and 95%\n",
        "n_90 = np.argmax(explained_variance >= 0.90) + 1  # +1 because Python indexing starts at 0\n",
        "n_95 = np.argmax(explained_variance >= 0.95) + 1\n",
        "\n",
        "# Print the results\n",
        "print(f\"🔹 Number of components needed to reach 90% variance: {n_90}\")\n",
        "print(f\"🔹 Number of components needed to reach 95% variance: {n_95}\")\n",
        "\n",
        "# Plot Cumulative Explained Variance\n",
        "plt.figure(figsize=(8, 5))\n",
        "plt.plot(range(1, 2364), explained_variance, marker=\"o\", linestyle=\"--\", color=\"red\", label=\"Cumulative Variance\")\n",
        "plt.axhline(y=0.90, color=\"blue\", linestyle=\"--\", label=f\"90% variance at {n_90} components\")\n",
        "plt.axhline(y=0.95, color=\"green\", linestyle=\"--\", label=f\"95% variance at {n_95} components\")\n",
        "\n",
        "# Highlight the selected components\n",
        "plt.scatter([n_90, n_95], [0.90, 0.95], color=\"black\", zorder=3)\n",
        "\n",
        "plt.xlabel(\"Number of Components\")\n",
        "plt.ylabel(\"Cumulative Explained Variance\")\n",
        "plt.title(\"Optimal Component Selection using SVD\")\n",
        "plt.legend()\n",
        "plt.grid(True)\n",
        "plt.show()"
      ],
      "metadata": {
        "colab": {
          "base_uri": "https://localhost:8080/",
          "height": 522
        },
        "id": "-M3cU0t7qSJz",
        "outputId": "58b78683-f8f7-4719-a590-96538b6e9417"
      },
      "execution_count": 35,
      "outputs": [
        {
          "output_type": "stream",
          "name": "stdout",
          "text": [
            "🔹 Number of components needed to reach 90% variance: 899\n",
            "🔹 Number of components needed to reach 95% variance: 1149\n"
          ]
        },
        {
          "output_type": "display_data",
          "data": {
            "text/plain": [
              "<Figure size 800x500 with 1 Axes>"
            ],
            "image/png": "[encoded data removed]"
          },
          "metadata": {}
        }
      ]
    },
    {
      "cell_type": "markdown",
      "source": [
        "<p align=\"justify\">\n",
        "When applying SVD to determine the optimal number of components for NMF, we analysed the cumulative explained variance across different component values. The results indicate that 899 components are required to capture 90% of the variance, while 1149 components are needed to retain 95% of the dataset's information.\n",
        "\n",
        "<p align=\"justify\">\n",
        "A significant number of components are necessary to preserve most of the variance in the TOSP descriptions. Based on these results, we've decided to use 1149 components, as reducing the number further could lead to a loss of critical information, which is essential for accurate clustering and similarity analysis."
      ],
      "metadata": {
        "id": "MUrZh0U6hQOV"
      }
    },
    {
      "cell_type": "markdown",
      "source": [
        "## **4. Applying NMF and Agglromorative Clustering to dataset**\n",
        "\n",
        "<p align =\"justify\">\n",
        "The KMeans model was trained using the optimal parameters identified in our analysis. Since we do not have access to medical professionals for validation, our evaluation relies on manual inspection. Specifically, we assess similarity by identifying repeated keywords—such as \"cataract surgery\"—in the TOSP code descriptions to determine whether code pairs should be considered similar or different.\n",
        "\n",
        "---"
      ],
      "metadata": {
        "id": "JdYB4vbbGzEv"
      }
    },
    {
      "cell_type": "code",
      "source": [
        "n_components = 1149  # Based on explained variance\n",
        "nmf_model = NMF(n_components=n_components, random_state=42)\n",
        "W = nmf_model.fit_transform(X)  # Document-topic matrix\n",
        "\n",
        "# --- Apply Agglomerative Clustering ---\n",
        "n_clusters = 1800  # Adjust based on exploration\n",
        "agg_model = AgglomerativeClustering(n_clusters=n_clusters, linkage=\"average\", metric=\"cosine\")\n",
        "agg_labels = agg_model.fit_predict(W)\n",
        "\n",
        "# Assign cluster labels to DataFrame\n",
        "df_tosp[\"Agglomerative_Cluster\"] = agg_labels\n",
        "\n",
        "# --- Step 5: Function to Compute Similarity & Cluster Assignments ---\n",
        "def check_nmf_agg_similarity(code1, code2, df, W):\n",
        "    \"\"\"\n",
        "    Compares two TOSP codes based on their NMF-transformed cosine similarity and cluster assignment.\n",
        "\n",
        "    Parameters:\n",
        "    - code1, code2: The TOSP codes to compare.\n",
        "    - df: DataFrame containing the TOSP codes and descriptions.\n",
        "    - W: NMF-transformed document-topic matrix.\n",
        "\n",
        "    Returns:\n",
        "    - Cosine similarity score and cluster assignments.\n",
        "    \"\"\"\n",
        "    idx1 = df.index[df[\"Code\"] == code1].tolist()\n",
        "    idx2 = df.index[df[\"Code\"] == code2].tolist()\n",
        "\n",
        "    if not idx1 or not idx2:\n",
        "        print(f\"❌ One or both codes ({code1}, {code2}) not found in dataset.\")\n",
        "        return None\n",
        "\n",
        "    vec1 = W[idx1[0]].reshape(1, -1)\n",
        "    vec2 = W[idx2[0]].reshape(1, -1)\n",
        "\n",
        "    sim_score = cosine_similarity(vec1, vec2)[0][0]\n",
        "\n",
        "    cluster1 = df.loc[idx1[0], \"Agglomerative_Cluster\"]\n",
        "    cluster2 = df.loc[idx2[0], \"Agglomerative_Cluster\"]\n",
        "\n",
        "    same_cluster = cluster1 == cluster2\n",
        "\n",
        "    print(f\"Comparison: {code1} vs {code2}**\")\n",
        "    print(f\"Cosine Similarity: {sim_score:.4f}\")\n",
        "    print(f\"Agglomerative Clustering -> {code1}: Cluster {cluster1}, {code2}: Cluster {cluster2}\")\n",
        "    print(f\"Same Cluster? {'Yes' if same_cluster else 'No'}\")\n",
        "\n",
        "    return sim_score, same_cluster\n",
        "\n",
        "# --- Step 6: Example Comparisons ---\n",
        "check_nmf_agg_similarity(\"SL701L\", \"SL702L\", df_tosp, W)  # Similar codes\n",
        "check_nmf_agg_similarity(\"SL701L\", \"SL705O\", df_tosp, W)  # Different codes"
      ],
      "metadata": {
        "colab": {
          "base_uri": "https://localhost:8080/"
        },
        "id": "IzNmn_twxpOJ",
        "outputId": "4f5b07f3-5a5b-4199-ce2a-be51ba019956"
      },
      "execution_count": 36,
      "outputs": [
        {
          "output_type": "stream",
          "name": "stdout",
          "text": [
            "Comparison: SL701L vs SL702L**\n",
            "Cosine Similarity: 0.4180\n",
            "Agglomerative Clustering -> SL701L: Cluster 1626, SL702L: Cluster 446\n",
            "Same Cluster? No\n",
            "Comparison: SL701L vs SL705O**\n",
            "Cosine Similarity: 0.0000\n",
            "Agglomerative Clustering -> SL701L: Cluster 1626, SL705O: Cluster 39\n",
            "Same Cluster? No\n"
          ]
        },
        {
          "output_type": "execute_result",
          "data": {
            "text/plain": [
              "(0.0, False)"
            ]
          },
          "metadata": {},
          "execution_count": 36
        }
      ]
    },
    {
      "cell_type": "markdown",
      "source": [
        "## **6. Saving the NMF + Agglomerative Clustering**\n",
        "\n",
        "<p align=\"justify\">\n",
        "To avoid retraining, we save the trained KMeans NMF + Agglomerative Clustering model using joblib. This allows us to reuse them later without recomputing clusters.\n",
        "\n",
        "---"
      ],
      "metadata": {
        "id": "bOsj3Sr6odTg"
      }
    },
    {
      "cell_type": "code",
      "source": [
        "import joblib\n",
        "\n",
        "# Save NMF + Agglomerative model\n",
        "joblib.dump(agg_model, \"NMF_Agglomerative_Model.pkl\")\n",
        "\n",
        "print(\"NMF + Agglomerative model saved successfully!\")"
      ],
      "metadata": {
        "colab": {
          "base_uri": "https://localhost:8080/"
        },
        "id": "b-xPlSSmoQEH",
        "outputId": "9b42fc9c-9d00-4630-e2ac-95bec3600cbe"
      },
      "execution_count": 37,
      "outputs": [
        {
          "output_type": "stream",
          "name": "stdout",
          "text": [
            "NMF + Agglomerative model saved successfully!\n"
          ]
        }
      ]
    },
    {
      "cell_type": "markdown",
      "source": [
        "## **7. Conclusion and Suggestions Moving Forward**\n",
        "\n",
        "<p align=\"justify\">\n",
        "Our testing reveals that Agglomerative Clustering (with 1800 clusters) combined with NMF (using 1149 components) provides a structured approach to grouping TOSP codes. By using hierarchical clustering with dimensionality reduction, we aimed to improve cluster coherence and better capture relationships between procedure descriptions. While the model has shown improvements over previous methods, further evaluation is needed to determine its overall effectiveness.\n",
        "\n",
        "<p align=\"justify\">\n",
        "In the final notebook, we will compare the results across all tested models, analysing their performance in identifying inappropriate TOSP code pairs. This will help determine which approach is the most effective for this task\n",
        "\n",
        "---"
      ],
      "metadata": {
        "id": "NR5pQFMVIrIk"
      }
    }
  ]
}